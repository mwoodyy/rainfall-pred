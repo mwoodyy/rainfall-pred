{
 "cells": [
  {
   "cell_type": "code",
   "execution_count": 3,
   "id": "268b6d46-e030-4036-ba87-2c2f0dcd4294",
   "metadata": {},
   "outputs": [
    {
     "name": "stdout",
     "output_type": "stream",
     "text": [
      "Requirement already satisfied: netcdf4 in c:\\users\\mwood\\anaconda3\\lib\\site-packages (1.7.2)\n",
      "Requirement already satisfied: cftime in c:\\users\\mwood\\anaconda3\\lib\\site-packages (from netcdf4) (1.6.4.post1)\n",
      "Requirement already satisfied: certifi in c:\\users\\mwood\\anaconda3\\lib\\site-packages (from netcdf4) (2024.12.14)\n",
      "Requirement already satisfied: numpy in c:\\users\\mwood\\anaconda3\\lib\\site-packages (from netcdf4) (1.26.4)\n"
     ]
    }
   ],
   "source": [
    "# xarray netcdf4 cfgrib\n",
    "!pip install netcdf4"
   ]
  },
  {
   "cell_type": "code",
   "execution_count": null,
   "id": "7b0a4ed7-57c2-4a9d-a743-22c703a58e92",
   "metadata": {},
   "outputs": [],
   "source": []
  }
 ],
 "metadata": {
  "kernelspec": {
   "display_name": "Python [conda env:base] *",
   "language": "python",
   "name": "conda-base-py"
  },
  "language_info": {
   "codemirror_mode": {
    "name": "ipython",
    "version": 3
   },
   "file_extension": ".py",
   "mimetype": "text/x-python",
   "name": "python",
   "nbconvert_exporter": "python",
   "pygments_lexer": "ipython3",
   "version": "3.12.3"
  }
 },
 "nbformat": 4,
 "nbformat_minor": 5
}
