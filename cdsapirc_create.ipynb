{
 "cells": [
  {
   "cell_type": "code",
   "execution_count": 7,
   "id": "8e4444eb-a3ee-4df5-a6ec-160bb157ac3f",
   "metadata": {},
   "outputs": [
    {
     "name": "stdout",
     "output_type": "stream",
     "text": [
      "url: https://cds.climate.copernicus.eu/api\n",
      "key: 62dd618a-7a2d-4d83-99d1-74b0a4141493\n"
     ]
    },
    {
     "name": "stderr",
     "output_type": "stream",
     "text": [
      "2025-07-08 19:01:40,124 INFO [2024-09-26T00:00:00] Watch our [Forum](https://forum.ecmwf.int/) for Announcements, news and other discussed topics.\n"
     ]
    }
   ],
   "source": [
    "from pathlib import Path\n",
    "\n",
    "cds_key = \"\"\"\n",
    "url: https://cds.climate.copernicus.eu/api\n",
    "key: 62dd618a-7a2d-4d83-99d1-74b0a4141493\n",
    "\"\"\"\n",
    "\n",
    "# with open(Path.home() / \".cdsapirc\", \"w\") as f:\n",
    "#     f.write(cds_key.strip())\n",
    "\n",
    "# with open(Path.home() / \".cdsapirc\") as f:\n",
    "#     print(f.read())\n",
    "\n",
    "# test connection\n",
    "\n",
    "import cdsapi\n",
    "\n",
    "c = cdsapi.Client()"
   ]
  },
  {
   "cell_type": "code",
   "execution_count": null,
   "id": "7fb576d1-55e2-4e48-a24a-b449beeb55b9",
   "metadata": {},
   "outputs": [],
   "source": []
  }
 ],
 "metadata": {
  "kernelspec": {
   "display_name": "Python [conda env:base] *",
   "language": "python",
   "name": "conda-base-py"
  },
  "language_info": {
   "codemirror_mode": {
    "name": "ipython",
    "version": 3
   },
   "file_extension": ".py",
   "mimetype": "text/x-python",
   "name": "python",
   "nbconvert_exporter": "python",
   "pygments_lexer": "ipython3",
   "version": "3.12.3"
  }
 },
 "nbformat": 4,
 "nbformat_minor": 5
}
