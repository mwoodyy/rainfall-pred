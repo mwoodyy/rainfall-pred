{
 "cells": [
  {
   "cell_type": "code",
   "execution_count": 1,
   "id": "29a0aa6a-0cb1-4c28-bd9b-7752b977c54e",
   "metadata": {},
   "outputs": [],
   "source": [
    "import numpy as np\n",
    "import pandas as pd\n",
    "import scipy\n",
    "import xarray as xr\n",
    "import matplotlib.pyplot as plt\n",
    "from sklearn.linear_model import Ridge\n",
    "from sklearn.model_selection import train_test_split"
   ]
  },
  {
   "cell_type": "code",
   "execution_count": 2,
   "id": "b786faf7-50b3-419c-84ee-0ad208816ffb",
   "metadata": {},
   "outputs": [],
   "source": [
    "ds = xr.open_dataset(\"C:/Users/mwood/1projects/rainfall_pred/data/processed/era5_conus_20240101.nc\", engine=\"netcdf4\")"
   ]
  },
  {
   "cell_type": "code",
   "execution_count": 7,
   "id": "0d054601-4985-46e5-941b-be8c7c33758f",
   "metadata": {},
   "outputs": [
    {
     "name": "stdout",
     "output_type": "stream",
     "text": [
      "R² score: 0.0022\n"
     ]
    }
   ],
   "source": [
    "input_vars = ['t2m', 'sp', 'u10', 'v10', 'cape']\n",
    "target_var = 'tp_hourly'\n",
    "\n",
    "# normalize per variable\n",
    "for var in input_vars:\n",
    "    mean = ds[var].mean()\n",
    "    std = ds[var].std()\n",
    "    ds[f\"{var}_norm\"] = (ds[var] - mean) / std\n",
    "\n",
    "# stack spatial dims into one: time, lat*lon, feature\n",
    "X = np.stack([ds[f\"{var}_norm\"].values for var in input_vars], axis=-1)  # shape: time, lat, lon, features\n",
    "Y = ds[target_var].values  # shape: time, lat, lon\n",
    "\n",
    "# reshape to (samples, features) and (samples,)\n",
    "n_time, n_lat, n_lon, n_feat = X.shape\n",
    "X_flat = X.reshape(n_time * n_lat * n_lon, n_feat)\n",
    "Y_flat = Y.reshape(n_time * n_lat * n_lon)\n",
    "\n",
    "# train_test_split\n",
    "X_train, X_test, y_train, y_test = train_test_split(X_flat, Y_flat, test_size=0.2)\n",
    "\n",
    "model = Ridge()\n",
    "model.fit(X_train, y_train)\n",
    "\n",
    "score = model.score(X_test, y_test)\n",
    "print(f\"R² score: {score:.3f}\")"
   ]
  },
  {
   "cell_type": "code",
   "execution_count": null,
   "id": "84854a40-8a26-4dac-89ae-5ab95c7dfce5",
   "metadata": {},
   "outputs": [],
   "source": []
  }
 ],
 "metadata": {
  "kernelspec": {
   "display_name": "Python [conda env:base] *",
   "language": "python",
   "name": "conda-base-py"
  },
  "language_info": {
   "codemirror_mode": {
    "name": "ipython",
    "version": 3
   },
   "file_extension": ".py",
   "mimetype": "text/x-python",
   "name": "python",
   "nbconvert_exporter": "python",
   "pygments_lexer": "ipython3",
   "version": "3.12.3"
  }
 },
 "nbformat": 4,
 "nbformat_minor": 5
}
